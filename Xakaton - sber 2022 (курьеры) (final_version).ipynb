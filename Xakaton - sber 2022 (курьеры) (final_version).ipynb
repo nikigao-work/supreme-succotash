{
 "cells": [
  {
   "cell_type": "markdown",
   "id": "9697cfb6",
   "metadata": {},
   "source": [
    "#Импортируем необходимые библиотеки для дальнейшей работы"
   ]
  },
  {
   "cell_type": "code",
   "execution_count": 2,
   "id": "4100c774",
   "metadata": {},
   "outputs": [],
   "source": [
    "import warnings\n",
    "warnings.filterwarnings(\"ignore\")\n",
    "\n",
    "import pandas as pd\n",
    "import numpy as np\n",
    "import statistics\n",
    "\n",
    "from datetime import datetime\n",
    "\n",
    "from xgboost import XGBClassifier\n",
    "from sklearn.model_selection import train_test_split\n",
    "from sklearn.metrics import accuracy_score\n",
    "from sklearn.metrics import mean_squared_error,r2_score\n",
    "from sklearn.model_selection import cross_val_score"
   ]
  },
  {
   "cell_type": "markdown",
   "id": "fc5ed15d",
   "metadata": {},
   "source": [
    "# Скачиваем данные"
   ]
  },
  {
   "cell_type": "code",
   "execution_count": 3,
   "id": "222e2194",
   "metadata": {},
   "outputs": [],
   "source": [
    "orders = pd.read_csv(\"orders.csv\")\n",
    "delay = pd.read_csv(\"partners_delays.csv\")\n",
    "new_orders = pd.read_csv(\"new_orders.csv\")"
   ]
  },
  {
   "cell_type": "markdown",
   "id": "ac6b6090",
   "metadata": {},
   "source": [
    "#Отделяем тот набор данных, относительно которых нам нужно будет предсказать кол-во курьеров и их delay_rate"
   ]
  },
  {
   "cell_type": "code",
   "execution_count": 4,
   "id": "d024523f",
   "metadata": {},
   "outputs": [],
   "source": [
    "X_test_global = new_orders.loc[~new_orders['date'].isin(orders['date'])]"
   ]
  },
  {
   "cell_type": "markdown",
   "id": "efa057ad",
   "metadata": {},
   "source": [
    "# Делаем базовую обработку данных с датой и выбираем нужное для нас (день, время)"
   ]
  },
  {
   "cell_type": "code",
   "execution_count": 5,
   "id": "effc4d0e",
   "metadata": {},
   "outputs": [],
   "source": [
    "delay['dttm'] = pd.to_datetime(delay['dttm'])\n",
    "delay['time'] = delay.dttm.dt.time\n",
    "delay['time'] = [str(i) for i in delay['time']]\n",
    "delay['day'] = delay.dttm.dt.day\n",
    "delay['day'] = [str(i) for i in delay['day']]\n",
    "delay.rename(columns={'dttm':'date'}, inplace=True)\n",
    "\n",
    "orders['date'] = pd.to_datetime(orders['date'])\n",
    "orders['time'] = orders.date.dt.time\n",
    "orders['time'] = [str(i) for i in orders['time']]\n",
    "orders['day'] = orders.date.dt.day\n",
    "orders['day'] = [str(i) for i in orders['day']]\n",
    "X_test_global['date'] = pd.to_datetime(X_test_global['date'])\n",
    "X_test_global['time'] = X_test_global.date.dt.time\n",
    "\n",
    "delay.drop(delay[((delay == '09:00:00') | (delay == '22:00:00')).any(axis=1)].index, inplace=True)  #удаляем 0-вой час работы и после-последний час работы\n",
    "\n",
    "delay['day'] = delay.date.dt.day\n",
    "delay['time'] = delay.date.dt.time\n",
    "orders['day'] = orders.date.dt.day\n",
    "orders['time'] = orders.date.dt.time"
   ]
  },
  {
   "cell_type": "markdown",
   "id": "fd055fc9",
   "metadata": {},
   "source": [
    "#Соединяем все наши данные в один DataFrame"
   ]
  },
  {
   "cell_type": "code",
   "execution_count": 7,
   "id": "b72a9d1b",
   "metadata": {},
   "outputs": [],
   "source": [
    "merge_table = delay.merge(orders, how='left', on=['delivery_area_id','date', 'time', 'day'])\n",
    "merge_table.dropna(inplace=True)"
   ]
  },
  {
   "cell_type": "markdown",
   "id": "82c6bf39",
   "metadata": {},
   "source": [
    "#Переводим время в числовой тип, чтобы потом его можно было использовать в обучении модели"
   ]
  },
  {
   "cell_type": "code",
   "execution_count": 8,
   "id": "ebd786e1",
   "metadata": {},
   "outputs": [],
   "source": [
    "merge_table['int_time'] = [int(i.strftime(\"%H%M%S\")) for i in merge_table.time]\n",
    "merge_table.drop(columns=['time'], inplace=True)\n",
    "X_test_global['int_time'] = [int(i.strftime(\"%H%M%S\")) for i in X_test_global.date]"
   ]
  },
  {
   "cell_type": "markdown",
   "id": "7cd0b41b",
   "metadata": {},
   "source": [
    "#Импортируем дополнительные библиотеки"
   ]
  },
  {
   "cell_type": "code",
   "execution_count": 9,
   "id": "1ae93fd5",
   "metadata": {},
   "outputs": [],
   "source": [
    "from sklearn.preprocessing import StandardScaler\n",
    "scaller = StandardScaler"
   ]
  },
  {
   "cell_type": "markdown",
   "id": "591bc95e",
   "metadata": {},
   "source": [
    "# Обучаем модель на имеющихся данных, путем разбивки на train и test мн-ва. Смотрим на точность нашего алгоритма"
   ]
  },
  {
   "cell_type": "code",
   "execution_count": 12,
   "id": "9fc321f8",
   "metadata": {},
   "outputs": [
    {
     "name": "stdout",
     "output_type": "stream",
     "text": [
      "xgb_for_partners_cnt = 0.771771143758387\n"
     ]
    }
   ],
   "source": [
    "X = merge_table.iloc[:,[0,5,6]]\n",
    "y = merge_table.iloc[:,2]\n",
    "X_train, X_test, y_train, y_test = train_test_split(X, y, test_size=0.33, random_state=42)\n",
    "X_train_scal = StandardScaler().fit_transform(X_train)\n",
    "X_test_scal = StandardScaler().fit_transform(X_test)\n",
    "\n",
    "params = {'n_estimators':200,\n",
    "          'max_depth':25,\n",
    "          'criterion':'mse',\n",
    "          'learning_rate':0.03,\n",
    "          'min_samples_leaf':16,\n",
    "          'min_samples_split':16\n",
    "          }\n",
    "model_xgb_for_partners_cnt = XGBClassifier(**params)\n",
    "model_xgb_for_partners_cnt.fit(X_train_scal, y_train)\n",
    "\n",
    "y_pred = model_xgb_for_partners_cnt.predict(X_test_scal)\n",
    "print('xgb_for_partners_cnt =',mean_squared_error(y_test,y_pred))  #0.77"
   ]
  },
  {
   "cell_type": "markdown",
   "id": "3208a5e8",
   "metadata": {},
   "source": [
    "#Смотрим на точность нашей обученной модели"
   ]
  },
  {
   "cell_type": "code",
   "execution_count": 14,
   "id": "1e642ec6",
   "metadata": {},
   "outputs": [
    {
     "data": {
      "text/plain": [
       "0.7390599675850892"
      ]
     },
     "execution_count": 14,
     "metadata": {},
     "output_type": "execute_result"
    }
   ],
   "source": [
    "y_pred_after = [int(i) for i in y_pred]\n",
    "y_test_after = [int(i) for i in y_test]\n",
    "accuracy_score(y_pred_after, y_test_after)  #73.9%"
   ]
  },
  {
   "cell_type": "code",
   "execution_count": 15,
   "id": "ccc61fb1",
   "metadata": {},
   "outputs": [
    {
     "data": {
      "text/html": [
       "<div>\n",
       "<style scoped>\n",
       "    .dataframe tbody tr th:only-of-type {\n",
       "        vertical-align: middle;\n",
       "    }\n",
       "\n",
       "    .dataframe tbody tr th {\n",
       "        vertical-align: top;\n",
       "    }\n",
       "\n",
       "    .dataframe thead th {\n",
       "        text-align: right;\n",
       "    }\n",
       "</style>\n",
       "<table border=\"1\" class=\"dataframe\">\n",
       "  <thead>\n",
       "    <tr style=\"text-align: right;\">\n",
       "      <th></th>\n",
       "      <th>delivery_area_id</th>\n",
       "      <th>date</th>\n",
       "      <th>orders_cnt</th>\n",
       "      <th>time</th>\n",
       "      <th>int_time</th>\n",
       "    </tr>\n",
       "  </thead>\n",
       "  <tbody>\n",
       "    <tr>\n",
       "      <th>2839</th>\n",
       "      <td>0</td>\n",
       "      <td>2021-12-01 10:00:00</td>\n",
       "      <td>21.0</td>\n",
       "      <td>10:00:00</td>\n",
       "      <td>100000</td>\n",
       "    </tr>\n",
       "    <tr>\n",
       "      <th>2840</th>\n",
       "      <td>0</td>\n",
       "      <td>2021-12-01 11:00:00</td>\n",
       "      <td>10.0</td>\n",
       "      <td>11:00:00</td>\n",
       "      <td>110000</td>\n",
       "    </tr>\n",
       "    <tr>\n",
       "      <th>2841</th>\n",
       "      <td>0</td>\n",
       "      <td>2021-12-01 12:00:00</td>\n",
       "      <td>11.0</td>\n",
       "      <td>12:00:00</td>\n",
       "      <td>120000</td>\n",
       "    </tr>\n",
       "    <tr>\n",
       "      <th>2842</th>\n",
       "      <td>0</td>\n",
       "      <td>2021-12-01 13:00:00</td>\n",
       "      <td>11.0</td>\n",
       "      <td>13:00:00</td>\n",
       "      <td>130000</td>\n",
       "    </tr>\n",
       "    <tr>\n",
       "      <th>2843</th>\n",
       "      <td>0</td>\n",
       "      <td>2021-12-01 14:00:00</td>\n",
       "      <td>12.0</td>\n",
       "      <td>14:00:00</td>\n",
       "      <td>140000</td>\n",
       "    </tr>\n",
       "    <tr>\n",
       "      <th>...</th>\n",
       "      <td>...</td>\n",
       "      <td>...</td>\n",
       "      <td>...</td>\n",
       "      <td>...</td>\n",
       "      <td>...</td>\n",
       "    </tr>\n",
       "    <tr>\n",
       "      <th>934904</th>\n",
       "      <td>592</td>\n",
       "      <td>2021-12-07 17:00:00</td>\n",
       "      <td>0.0</td>\n",
       "      <td>17:00:00</td>\n",
       "      <td>170000</td>\n",
       "    </tr>\n",
       "    <tr>\n",
       "      <th>934905</th>\n",
       "      <td>592</td>\n",
       "      <td>2021-12-07 18:00:00</td>\n",
       "      <td>0.0</td>\n",
       "      <td>18:00:00</td>\n",
       "      <td>180000</td>\n",
       "    </tr>\n",
       "    <tr>\n",
       "      <th>934906</th>\n",
       "      <td>592</td>\n",
       "      <td>2021-12-07 19:00:00</td>\n",
       "      <td>0.0</td>\n",
       "      <td>19:00:00</td>\n",
       "      <td>190000</td>\n",
       "    </tr>\n",
       "    <tr>\n",
       "      <th>934907</th>\n",
       "      <td>592</td>\n",
       "      <td>2021-12-07 20:00:00</td>\n",
       "      <td>-0.0</td>\n",
       "      <td>20:00:00</td>\n",
       "      <td>200000</td>\n",
       "    </tr>\n",
       "    <tr>\n",
       "      <th>934908</th>\n",
       "      <td>592</td>\n",
       "      <td>2021-12-07 21:00:00</td>\n",
       "      <td>0.0</td>\n",
       "      <td>21:00:00</td>\n",
       "      <td>210000</td>\n",
       "    </tr>\n",
       "  </tbody>\n",
       "</table>\n",
       "<p>48988 rows × 5 columns</p>\n",
       "</div>"
      ],
      "text/plain": [
       "        delivery_area_id                date  orders_cnt      time  int_time\n",
       "2839                   0 2021-12-01 10:00:00        21.0  10:00:00    100000\n",
       "2840                   0 2021-12-01 11:00:00        10.0  11:00:00    110000\n",
       "2841                   0 2021-12-01 12:00:00        11.0  12:00:00    120000\n",
       "2842                   0 2021-12-01 13:00:00        11.0  13:00:00    130000\n",
       "2843                   0 2021-12-01 14:00:00        12.0  14:00:00    140000\n",
       "...                  ...                 ...         ...       ...       ...\n",
       "934904               592 2021-12-07 17:00:00         0.0  17:00:00    170000\n",
       "934905               592 2021-12-07 18:00:00         0.0  18:00:00    180000\n",
       "934906               592 2021-12-07 19:00:00         0.0  19:00:00    190000\n",
       "934907               592 2021-12-07 20:00:00        -0.0  20:00:00    200000\n",
       "934908               592 2021-12-07 21:00:00         0.0  21:00:00    210000\n",
       "\n",
       "[48988 rows x 5 columns]"
      ]
     },
     "execution_count": 15,
     "metadata": {},
     "output_type": "execute_result"
    }
   ],
   "source": [
    "X_test_global"
   ]
  },
  {
   "cell_type": "markdown",
   "id": "5f57e4c8",
   "metadata": {},
   "source": [
    "# Даем предикт по новому числу курьеров для новых заказов на несколько дней вперед"
   ]
  },
  {
   "cell_type": "code",
   "execution_count": 16,
   "id": "08f5a3a5",
   "metadata": {},
   "outputs": [
    {
     "data": {
      "text/plain": [
       "array([[-1.73038545,  2.55147295, -1.59221267],\n",
       "       [-1.73038545,  0.70499094, -1.30234938],\n",
       "       [-1.73038545,  0.87285294, -1.01248608],\n",
       "       ...,\n",
       "       [ 1.71876811, -0.97362908,  1.01655699],\n",
       "       [ 1.71876811, -0.97362908,  1.30642029],\n",
       "       [ 1.71876811, -0.97362908,  1.59628359]])"
      ]
     },
     "execution_count": 16,
     "metadata": {},
     "output_type": "execute_result"
    }
   ],
   "source": [
    "X_test_global_for_predicting = X_test_global.iloc[:,[0,2,4]]\n",
    "X_test_global_for_predicting_scal = StandardScaler().fit_transform(X_test_global_for_predicting)\n",
    "y_pred_global = model_xgb_for_partners_cnt.predict(X_test_global_for_predicting_scal)"
   ]
  },
  {
   "cell_type": "code",
   "execution_count": 18,
   "id": "a4115f22",
   "metadata": {},
   "outputs": [
    {
     "data": {
      "text/plain": [
       "48988"
      ]
     },
     "execution_count": 18,
     "metadata": {},
     "output_type": "execute_result"
    }
   ],
   "source": [
    "#len(y_pred_global) == len(X_test_global_for_predicting_scal)"
   ]
  },
  {
   "cell_type": "markdown",
   "id": "7731b293",
   "metadata": {},
   "source": [
    "#Готовим данные для предсказания delay_rate"
   ]
  },
  {
   "cell_type": "code",
   "execution_count": 20,
   "id": "60a17c7c",
   "metadata": {},
   "outputs": [],
   "source": [
    "X_test_global['partners_cnt'] = y_pred_global\n",
    "X_test_global['orders_per_human'] = X_test_global.orders_cnt / X_test_global.partners_cnt\n",
    "merge_table['orders_per_human'] = merge_table.orders_cnt / merge_table.partners_cnt\n",
    "merge_table['for_pred_delay'] = merge_table.delay_rate*100\n",
    "#X_test_global.to_csv('1st_step_excel.csv',index=True)"
   ]
  },
  {
   "cell_type": "markdown",
   "id": "c7c2559f",
   "metadata": {},
   "source": [
    "#Готовим delay_rate для предсказания модели"
   ]
  },
  {
   "cell_type": "code",
   "execution_count": 30,
   "id": "a37b1e80",
   "metadata": {},
   "outputs": [
    {
     "data": {
      "text/html": [
       "<div>\n",
       "<style scoped>\n",
       "    .dataframe tbody tr th:only-of-type {\n",
       "        vertical-align: middle;\n",
       "    }\n",
       "\n",
       "    .dataframe tbody tr th {\n",
       "        vertical-align: top;\n",
       "    }\n",
       "\n",
       "    .dataframe thead th {\n",
       "        text-align: right;\n",
       "    }\n",
       "</style>\n",
       "<table border=\"1\" class=\"dataframe\">\n",
       "  <thead>\n",
       "    <tr style=\"text-align: right;\">\n",
       "      <th></th>\n",
       "      <th>delivery_area_id</th>\n",
       "      <th>date</th>\n",
       "      <th>partners_cnt</th>\n",
       "      <th>delay_rate</th>\n",
       "      <th>day</th>\n",
       "      <th>orders_cnt</th>\n",
       "      <th>int_time</th>\n",
       "      <th>orders_per_human</th>\n",
       "      <th>for_pred_delay</th>\n",
       "    </tr>\n",
       "  </thead>\n",
       "  <tbody>\n",
       "    <tr>\n",
       "      <th>0</th>\n",
       "      <td>0</td>\n",
       "      <td>2021-04-01 10:00:00</td>\n",
       "      <td>4.0</td>\n",
       "      <td>0.111111</td>\n",
       "      <td>1</td>\n",
       "      <td>9.0</td>\n",
       "      <td>100000</td>\n",
       "      <td>2.25</td>\n",
       "      <td>11</td>\n",
       "    </tr>\n",
       "    <tr>\n",
       "      <th>1</th>\n",
       "      <td>0</td>\n",
       "      <td>2021-04-01 11:00:00</td>\n",
       "      <td>4.0</td>\n",
       "      <td>0.000000</td>\n",
       "      <td>1</td>\n",
       "      <td>1.0</td>\n",
       "      <td>110000</td>\n",
       "      <td>0.25</td>\n",
       "      <td>0</td>\n",
       "    </tr>\n",
       "    <tr>\n",
       "      <th>3</th>\n",
       "      <td>0</td>\n",
       "      <td>2021-04-01 13:00:00</td>\n",
       "      <td>1.0</td>\n",
       "      <td>0.000000</td>\n",
       "      <td>1</td>\n",
       "      <td>1.0</td>\n",
       "      <td>130000</td>\n",
       "      <td>1.00</td>\n",
       "      <td>0</td>\n",
       "    </tr>\n",
       "    <tr>\n",
       "      <th>4</th>\n",
       "      <td>0</td>\n",
       "      <td>2021-04-01 14:00:00</td>\n",
       "      <td>1.0</td>\n",
       "      <td>0.000000</td>\n",
       "      <td>1</td>\n",
       "      <td>1.0</td>\n",
       "      <td>140000</td>\n",
       "      <td>1.00</td>\n",
       "      <td>0</td>\n",
       "    </tr>\n",
       "    <tr>\n",
       "      <th>5</th>\n",
       "      <td>0</td>\n",
       "      <td>2021-04-01 15:00:00</td>\n",
       "      <td>1.0</td>\n",
       "      <td>0.000000</td>\n",
       "      <td>1</td>\n",
       "      <td>2.0</td>\n",
       "      <td>150000</td>\n",
       "      <td>2.00</td>\n",
       "      <td>0</td>\n",
       "    </tr>\n",
       "    <tr>\n",
       "      <th>...</th>\n",
       "      <td>...</td>\n",
       "      <td>...</td>\n",
       "      <td>...</td>\n",
       "      <td>...</td>\n",
       "      <td>...</td>\n",
       "      <td>...</td>\n",
       "      <td>...</td>\n",
       "      <td>...</td>\n",
       "      <td>...</td>\n",
       "    </tr>\n",
       "    <tr>\n",
       "      <th>1194043</th>\n",
       "      <td>592</td>\n",
       "      <td>2021-11-30 16:00:00</td>\n",
       "      <td>3.0</td>\n",
       "      <td>0.000000</td>\n",
       "      <td>30</td>\n",
       "      <td>6.0</td>\n",
       "      <td>160000</td>\n",
       "      <td>2.00</td>\n",
       "      <td>0</td>\n",
       "    </tr>\n",
       "    <tr>\n",
       "      <th>1194044</th>\n",
       "      <td>592</td>\n",
       "      <td>2021-11-30 17:00:00</td>\n",
       "      <td>2.0</td>\n",
       "      <td>0.000000</td>\n",
       "      <td>30</td>\n",
       "      <td>3.0</td>\n",
       "      <td>170000</td>\n",
       "      <td>1.50</td>\n",
       "      <td>0</td>\n",
       "    </tr>\n",
       "    <tr>\n",
       "      <th>1194045</th>\n",
       "      <td>592</td>\n",
       "      <td>2021-11-30 18:00:00</td>\n",
       "      <td>2.0</td>\n",
       "      <td>0.000000</td>\n",
       "      <td>30</td>\n",
       "      <td>2.0</td>\n",
       "      <td>180000</td>\n",
       "      <td>1.00</td>\n",
       "      <td>0</td>\n",
       "    </tr>\n",
       "    <tr>\n",
       "      <th>1194046</th>\n",
       "      <td>592</td>\n",
       "      <td>2021-11-30 19:00:00</td>\n",
       "      <td>2.0</td>\n",
       "      <td>0.000000</td>\n",
       "      <td>30</td>\n",
       "      <td>4.0</td>\n",
       "      <td>190000</td>\n",
       "      <td>2.00</td>\n",
       "      <td>0</td>\n",
       "    </tr>\n",
       "    <tr>\n",
       "      <th>1194047</th>\n",
       "      <td>592</td>\n",
       "      <td>2021-11-30 20:00:00</td>\n",
       "      <td>2.0</td>\n",
       "      <td>0.000000</td>\n",
       "      <td>30</td>\n",
       "      <td>4.0</td>\n",
       "      <td>200000</td>\n",
       "      <td>2.00</td>\n",
       "      <td>0</td>\n",
       "    </tr>\n",
       "  </tbody>\n",
       "</table>\n",
       "<p>869409 rows × 9 columns</p>\n",
       "</div>"
      ],
      "text/plain": [
       "         delivery_area_id                date  partners_cnt  delay_rate  day  \\\n",
       "0                       0 2021-04-01 10:00:00           4.0    0.111111    1   \n",
       "1                       0 2021-04-01 11:00:00           4.0    0.000000    1   \n",
       "3                       0 2021-04-01 13:00:00           1.0    0.000000    1   \n",
       "4                       0 2021-04-01 14:00:00           1.0    0.000000    1   \n",
       "5                       0 2021-04-01 15:00:00           1.0    0.000000    1   \n",
       "...                   ...                 ...           ...         ...  ...   \n",
       "1194043               592 2021-11-30 16:00:00           3.0    0.000000   30   \n",
       "1194044               592 2021-11-30 17:00:00           2.0    0.000000   30   \n",
       "1194045               592 2021-11-30 18:00:00           2.0    0.000000   30   \n",
       "1194046               592 2021-11-30 19:00:00           2.0    0.000000   30   \n",
       "1194047               592 2021-11-30 20:00:00           2.0    0.000000   30   \n",
       "\n",
       "         orders_cnt  int_time  orders_per_human  for_pred_delay  \n",
       "0               9.0    100000              2.25              11  \n",
       "1               1.0    110000              0.25               0  \n",
       "3               1.0    130000              1.00               0  \n",
       "4               1.0    140000              1.00               0  \n",
       "5               2.0    150000              2.00               0  \n",
       "...             ...       ...               ...             ...  \n",
       "1194043         6.0    160000              2.00               0  \n",
       "1194044         3.0    170000              1.50               0  \n",
       "1194045         2.0    180000              1.00               0  \n",
       "1194046         4.0    190000              2.00               0  \n",
       "1194047         4.0    200000              2.00               0  \n",
       "\n",
       "[869409 rows x 9 columns]"
      ]
     },
     "execution_count": 30,
     "metadata": {},
     "output_type": "execute_result"
    }
   ],
   "source": [
    "merge_table['for_pred_delay'] = [int(i*100) for i in merge_table.delay_rate]\n",
    "merge_table"
   ]
  },
  {
   "cell_type": "markdown",
   "id": "cbaedfcd",
   "metadata": {},
   "source": [
    "# Прогнозируем какой будет delay_rate с новым кол-вом курьеров (спронозируемым на предыдущем шаге). Для этого сначала обучаем модель на уже имеющихся данных"
   ]
  },
  {
   "cell_type": "code",
   "execution_count": 31,
   "id": "b2ea1601",
   "metadata": {},
   "outputs": [],
   "source": [
    "params = {'n_estimators':200,\n",
    "          'max_depth':25,\n",
    "          'criterion':'mse',\n",
    "          'learning_rate':0.03,\n",
    "          'min_samples_leaf':16,\n",
    "          'min_samples_split':16\n",
    "          }"
   ]
  },
  {
   "cell_type": "code",
   "execution_count": 32,
   "id": "2fa688ee",
   "metadata": {},
   "outputs": [
    {
     "name": "stdout",
     "output_type": "stream",
     "text": [
      "xgb = 149.63665673306494\n"
     ]
    }
   ],
   "source": [
    "X_pred_delay = merge_table.iloc[:,[0,2,5,6,7]]\n",
    "y_pred_delay = merge_table.iloc[:,8]\n",
    "X_train_delay, X_test_delay, y_train_delay, y_test_delay = train_test_split(X_pred_delay, y_pred_delay, test_size=0.33, random_state=42)\n",
    "X_train_delay_scale = StandardScaler().fit_transform(X_train_delay)\n",
    "X_test_delay_scale = StandardScaler().fit_transform(X_test_delay)\n",
    "\n",
    "model_xgb_for_delay_rate = XGBClassifier(**params)\n",
    "model_xgb_for_delay_rate.fit(X_train_delay_scale, y_train_delay)\n",
    "\n",
    "y_pred_delay = model_xgb_for_delay_rate.predict(X_test_delay_scale)\n",
    "print('xgb =',mean_squared_error(y_test_delay,y_pred_delay))"
   ]
  },
  {
   "cell_type": "markdown",
   "id": "773fa315",
   "metadata": {},
   "source": [
    "#Смотрим на точность предсказаний для обученной модели"
   ]
  },
  {
   "cell_type": "code",
   "execution_count": 33,
   "id": "f59d4b27",
   "metadata": {},
   "outputs": [
    {
     "data": {
      "text/plain": [
       "0.8259563270071975"
      ]
     },
     "execution_count": 33,
     "metadata": {},
     "output_type": "execute_result"
    }
   ],
   "source": [
    "y_pred_after_delay = [int(i) for i in y_pred_delay]\n",
    "y_test_after_delay = [int(i) for i in y_test_delay]\n",
    "accuracy_score(y_pred_after_delay, y_test_after_delay)  #83%"
   ]
  },
  {
   "cell_type": "markdown",
   "id": "777dd109",
   "metadata": {},
   "source": [
    "#Средний delay_rate для тестовой модели (в %)"
   ]
  },
  {
   "cell_type": "code",
   "execution_count": 39,
   "id": "f74aa165",
   "metadata": {},
   "outputs": [
    {
     "data": {
      "text/plain": [
       "1.0262525923215002"
      ]
     },
     "execution_count": 39,
     "metadata": {},
     "output_type": "execute_result"
    }
   ],
   "source": [
    "y_pred_delay.mean()  "
   ]
  },
  {
   "cell_type": "markdown",
   "id": "9473d17d",
   "metadata": {},
   "source": [
    "#Обучаем и смотрим на результат на новых курьерах и новых сменах"
   ]
  },
  {
   "cell_type": "code",
   "execution_count": 48,
   "id": "99a55bfa",
   "metadata": {},
   "outputs": [
    {
     "data": {
      "text/plain": [
       "0.008270392749244713"
      ]
     },
     "execution_count": 48,
     "metadata": {},
     "output_type": "execute_result"
    }
   ],
   "source": [
    "X_test_global_for_predicting_delay_rate = X_test_global.iloc[:,[0,2,4,5,6]]\n",
    "X_test_global_for_predicting_delay_rate_scale = StandardScaler().fit_transform(X_test_global_for_predicting_delay_rate)\n",
    "y_pred_global_delay = model_xgb_for_delay_rate.predict(X_test_global_for_predicting_delay_rate_scale)\n",
    "y_pred_global_delay.mean() / 100  #0.8% - средний delay_rate для предсказанных курьеров"
   ]
  },
  {
   "cell_type": "markdown",
   "id": "2729a157",
   "metadata": {},
   "source": [
    "#Так как мы умножали на 100 delay_rate для предсказания, возвращаем его к исходной величине, разделив на ту же величину (100)"
   ]
  },
  {
   "cell_type": "code",
   "execution_count": 46,
   "id": "97daf2b8",
   "metadata": {},
   "outputs": [
    {
     "data": {
      "text/html": [
       "<div>\n",
       "<style scoped>\n",
       "    .dataframe tbody tr th:only-of-type {\n",
       "        vertical-align: middle;\n",
       "    }\n",
       "\n",
       "    .dataframe tbody tr th {\n",
       "        vertical-align: top;\n",
       "    }\n",
       "\n",
       "    .dataframe thead th {\n",
       "        text-align: right;\n",
       "    }\n",
       "</style>\n",
       "<table border=\"1\" class=\"dataframe\">\n",
       "  <thead>\n",
       "    <tr style=\"text-align: right;\">\n",
       "      <th></th>\n",
       "      <th>delivery_area_id</th>\n",
       "      <th>date</th>\n",
       "      <th>orders_cnt</th>\n",
       "      <th>time</th>\n",
       "      <th>int_time</th>\n",
       "      <th>partners_cnt</th>\n",
       "      <th>orders_per_human</th>\n",
       "      <th>delay_rate</th>\n",
       "    </tr>\n",
       "  </thead>\n",
       "  <tbody>\n",
       "    <tr>\n",
       "      <th>2839</th>\n",
       "      <td>0</td>\n",
       "      <td>2021-12-01 10:00:00</td>\n",
       "      <td>21.0</td>\n",
       "      <td>10:00:00</td>\n",
       "      <td>100000</td>\n",
       "      <td>5.0</td>\n",
       "      <td>4.200000</td>\n",
       "      <td>0.0</td>\n",
       "    </tr>\n",
       "    <tr>\n",
       "      <th>2840</th>\n",
       "      <td>0</td>\n",
       "      <td>2021-12-01 11:00:00</td>\n",
       "      <td>10.0</td>\n",
       "      <td>11:00:00</td>\n",
       "      <td>110000</td>\n",
       "      <td>6.0</td>\n",
       "      <td>1.666667</td>\n",
       "      <td>0.0</td>\n",
       "    </tr>\n",
       "    <tr>\n",
       "      <th>2841</th>\n",
       "      <td>0</td>\n",
       "      <td>2021-12-01 12:00:00</td>\n",
       "      <td>11.0</td>\n",
       "      <td>12:00:00</td>\n",
       "      <td>120000</td>\n",
       "      <td>5.0</td>\n",
       "      <td>2.200000</td>\n",
       "      <td>0.0</td>\n",
       "    </tr>\n",
       "    <tr>\n",
       "      <th>2842</th>\n",
       "      <td>0</td>\n",
       "      <td>2021-12-01 13:00:00</td>\n",
       "      <td>11.0</td>\n",
       "      <td>13:00:00</td>\n",
       "      <td>130000</td>\n",
       "      <td>3.0</td>\n",
       "      <td>3.666667</td>\n",
       "      <td>0.0</td>\n",
       "    </tr>\n",
       "    <tr>\n",
       "      <th>2843</th>\n",
       "      <td>0</td>\n",
       "      <td>2021-12-01 14:00:00</td>\n",
       "      <td>12.0</td>\n",
       "      <td>14:00:00</td>\n",
       "      <td>140000</td>\n",
       "      <td>3.0</td>\n",
       "      <td>4.000000</td>\n",
       "      <td>0.0</td>\n",
       "    </tr>\n",
       "    <tr>\n",
       "      <th>...</th>\n",
       "      <td>...</td>\n",
       "      <td>...</td>\n",
       "      <td>...</td>\n",
       "      <td>...</td>\n",
       "      <td>...</td>\n",
       "      <td>...</td>\n",
       "      <td>...</td>\n",
       "      <td>...</td>\n",
       "    </tr>\n",
       "    <tr>\n",
       "      <th>934904</th>\n",
       "      <td>592</td>\n",
       "      <td>2021-12-07 17:00:00</td>\n",
       "      <td>0.0</td>\n",
       "      <td>17:00:00</td>\n",
       "      <td>170000</td>\n",
       "      <td>1.0</td>\n",
       "      <td>0.000000</td>\n",
       "      <td>0.0</td>\n",
       "    </tr>\n",
       "    <tr>\n",
       "      <th>934905</th>\n",
       "      <td>592</td>\n",
       "      <td>2021-12-07 18:00:00</td>\n",
       "      <td>0.0</td>\n",
       "      <td>18:00:00</td>\n",
       "      <td>180000</td>\n",
       "      <td>1.0</td>\n",
       "      <td>0.000000</td>\n",
       "      <td>0.0</td>\n",
       "    </tr>\n",
       "    <tr>\n",
       "      <th>934906</th>\n",
       "      <td>592</td>\n",
       "      <td>2021-12-07 19:00:00</td>\n",
       "      <td>0.0</td>\n",
       "      <td>19:00:00</td>\n",
       "      <td>190000</td>\n",
       "      <td>1.0</td>\n",
       "      <td>0.000000</td>\n",
       "      <td>0.0</td>\n",
       "    </tr>\n",
       "    <tr>\n",
       "      <th>934907</th>\n",
       "      <td>592</td>\n",
       "      <td>2021-12-07 20:00:00</td>\n",
       "      <td>-0.0</td>\n",
       "      <td>20:00:00</td>\n",
       "      <td>200000</td>\n",
       "      <td>1.0</td>\n",
       "      <td>-0.000000</td>\n",
       "      <td>0.0</td>\n",
       "    </tr>\n",
       "    <tr>\n",
       "      <th>934908</th>\n",
       "      <td>592</td>\n",
       "      <td>2021-12-07 21:00:00</td>\n",
       "      <td>0.0</td>\n",
       "      <td>21:00:00</td>\n",
       "      <td>210000</td>\n",
       "      <td>1.0</td>\n",
       "      <td>0.000000</td>\n",
       "      <td>0.0</td>\n",
       "    </tr>\n",
       "  </tbody>\n",
       "</table>\n",
       "<p>48988 rows × 8 columns</p>\n",
       "</div>"
      ],
      "text/plain": [
       "        delivery_area_id                date  orders_cnt      time  int_time  \\\n",
       "2839                   0 2021-12-01 10:00:00        21.0  10:00:00    100000   \n",
       "2840                   0 2021-12-01 11:00:00        10.0  11:00:00    110000   \n",
       "2841                   0 2021-12-01 12:00:00        11.0  12:00:00    120000   \n",
       "2842                   0 2021-12-01 13:00:00        11.0  13:00:00    130000   \n",
       "2843                   0 2021-12-01 14:00:00        12.0  14:00:00    140000   \n",
       "...                  ...                 ...         ...       ...       ...   \n",
       "934904               592 2021-12-07 17:00:00         0.0  17:00:00    170000   \n",
       "934905               592 2021-12-07 18:00:00         0.0  18:00:00    180000   \n",
       "934906               592 2021-12-07 19:00:00         0.0  19:00:00    190000   \n",
       "934907               592 2021-12-07 20:00:00        -0.0  20:00:00    200000   \n",
       "934908               592 2021-12-07 21:00:00         0.0  21:00:00    210000   \n",
       "\n",
       "        partners_cnt  orders_per_human  delay_rate  \n",
       "2839             5.0          4.200000         0.0  \n",
       "2840             6.0          1.666667         0.0  \n",
       "2841             5.0          2.200000         0.0  \n",
       "2842             3.0          3.666667         0.0  \n",
       "2843             3.0          4.000000         0.0  \n",
       "...              ...               ...         ...  \n",
       "934904           1.0          0.000000         0.0  \n",
       "934905           1.0          0.000000         0.0  \n",
       "934906           1.0          0.000000         0.0  \n",
       "934907           1.0         -0.000000         0.0  \n",
       "934908           1.0          0.000000         0.0  \n",
       "\n",
       "[48988 rows x 8 columns]"
      ]
     },
     "execution_count": 46,
     "metadata": {},
     "output_type": "execute_result"
    }
   ],
   "source": [
    "X_test_global['delay_rate'] = y_pred_global_delay / 100\n",
    "X_test_global"
   ]
  },
  {
   "cell_type": "markdown",
   "id": "c4c04ea7",
   "metadata": {},
   "source": [
    "Собираем все данные в общий ответ (делаем новый файл с предиктами и старой информацией)"
   ]
  },
  {
   "cell_type": "code",
   "execution_count": 105,
   "id": "ae399bf9",
   "metadata": {},
   "outputs": [],
   "source": [
    "merge_table.drop(columns=['day','for_pred_delay'], inplace=True)\n",
    "X_test_global.drop(columns=['time'], inplace=True)\n",
    "all_end = pd.concat([merge_table, X_test_global], axis=0)\n",
    "all_end.drop(columns=['orders_cnt', 'int_time', 'orders_per_human'], inplace=True)\n",
    "all_end['int_time'] = [int(i.strftime(\"%Y%m%d%H%M%S\")) for i in all_end.date]\n",
    "all_end.sort_values(by=['delivery_area_id', 'int_time'], inplace=True)\n",
    "all_end.drop(columns=['int_time'], inplace=True)\n",
    "all_end.to_csv('new_partners_cnt.csv')"
   ]
  }
 ],
 "metadata": {
  "kernelspec": {
   "display_name": "Python 3 (ipykernel)",
   "language": "python",
   "name": "python3"
  },
  "language_info": {
   "codemirror_mode": {
    "name": "ipython",
    "version": 3
   },
   "file_extension": ".py",
   "mimetype": "text/x-python",
   "name": "python",
   "nbconvert_exporter": "python",
   "pygments_lexer": "ipython3",
   "version": "3.9.12"
  }
 },
 "nbformat": 4,
 "nbformat_minor": 5
}
